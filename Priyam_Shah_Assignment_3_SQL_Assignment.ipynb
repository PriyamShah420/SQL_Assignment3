{
  "cells": [
    {
      "cell_type": "markdown",
      "id": "b3d08535",
      "metadata": {
        "id": "b3d08535"
      },
      "source": [
        "<img src=\"https://raw.githubusercontent.com/afo/data-x-plaksha/master/imgsource/dx_logo.png\" align=\"left\"></img><br><br><br><br>"
      ]
    },
    {
      "cell_type": "markdown",
      "id": "4c408082",
      "metadata": {
        "id": "4c408082"
      },
      "source": [
        "## Plaksha SQL assignment"
      ]
    },
    {
      "cell_type": "markdown",
      "id": "7f7d4113-c3a9-47b2-b7df-b844d49abd22",
      "metadata": {
        "id": "7f7d4113-c3a9-47b2-b7df-b844d49abd22"
      },
      "source": [
        "---\n",
        "\n",
        "## Submission details:\n",
        "\n",
        "Please submit this as a Jupyter Notebook and a PDF of your results (both should show output). Also push your solutions to Github.\n",
        "\n",
        "For the submision create a local database with `sqlite3` or `sqlalchemy` in a Jupyter notebook and make the queries either with a cursor object (and then print the results) or by using pandas `pd.read_sql_query()`."
      ]
    },
    {
      "cell_type": "markdown",
      "id": "0c551f03-7eff-43e2-89a7-a53b54098223",
      "metadata": {
        "id": "0c551f03-7eff-43e2-89a7-a53b54098223"
      },
      "source": [
        "___\n",
        "\n",
        "When completing this homework you can experiment with SQL commands by utilizing this great online editor:\n",
        "\n",
        "https://www.w3schools.com/sql/trysql.asp?filename=trysql_select_all\n",
        "\n",
        "There are already some tables in the online Database, namely:\n",
        "\n",
        "`Categories, Employees, OrderDetails, Orders, Products, Shippers, and Suppliers.`\n",
        "\n",
        "If you want you can drop them by running  `DROP TABLE [table-name];` (or just keep them)."
      ]
    },
    {
      "cell_type": "markdown",
      "id": "dccc820f-21b0-4b2c-9ca8-9cb9eab76023",
      "metadata": {
        "id": "dccc820f-21b0-4b2c-9ca8-9cb9eab76023"
      },
      "source": [
        "___\n",
        "\n",
        "## Exercises:\n",
        "\n",
        "First create a table called students. It has the columns: 'student_id', 'name', 'major', 'gpa' and 'enrollment_date' We will use a new form of `CREATE TABLE` expression to produce this table.\n",
        "\n",
        "Note that you can improve this and are welcome to do so -- e.g. by specifying for example a PRIMARY KEY and a FOREIGN KEY in Q2 :)\n",
        "\n",
        "    CREATE TABLE students AS\n",
        "        SELECT 1 AS student_id, \"John\" AS name, \"Computer Science\" AS major, 3.5 AS gpa, \"01-01-2022\" AS enrollment_date UNION\n",
        "        SELECT 2, \"Jane\", \"Physics\", 3.8, \"01-02-2022\" UNION\n",
        "        SELECT 3, \"Bob\", \"Engineering\", 3.0, \"01-03-2022\" UNION\n",
        "        SELECT 4, \"Samantha\", \"Physics\", 3.9, \"01-04-2022\" UNION\n",
        "        SELECT 5, \"James\", \"Engineering\", 3.7, \"01-05-2022\" UNION\n",
        "        SELECT 6, \"Emily\", \"Computer Science\", 3.6, \"01-06-2022\" UNION\n",
        "        SELECT 7, \"Michael\", \"Computer Science\", 3.2, \"01-07-2022\" UNION\n",
        "        SELECT 8, \"Jessica\", \"Engineering\", 3.8, \"01-08-2022\" UNION\n",
        "        SELECT 9, \"Jacob\", \"Physics\", 3.4, \"01-09-2022\" UNION\n",
        "        SELECT 10, \"Ashley\", \"Physics\", 3.9, \"01-10-2022\";\n",
        "\n",
        "\n",
        "## Q1 Simple SELECTS (on the students table)\n",
        "1. SELECT all records in the table.\n",
        "2. SELECT students whose major is \"Computer Science\".\n",
        "3. SELECT all unique majors (use SELECT DISTINCT) and order them by name, descending order (i.e. Physics first).\n",
        "4. SELECT all students that have an 'e' in their name and order them by gpa in ascending order.\n",
        "\n",
        "\n",
        "## Q2 Joins\n",
        "\n",
        "Create a new table called courses, which indicates the courses taken by the students. \n",
        "\n",
        "Create the table by running:\n",
        "\t\n",
        "    CREATE TABLE courses AS\n",
        "        SELECT 1 AS course_id, \"Python programming\" AS course_name, 1 AS student_id, \"A\" AS grade UNION\n",
        "        SELECT 2, \"Data Structures\", 2, \"B\" UNION\n",
        "        SELECT 3, \"Database Systems\", 3, \"B\" UNION\n",
        "        SELECT 1, \"Python programming\", 4, \"A\" UNION\n",
        "        SELECT 4, \"Quantum Mechanics\", 5, \"C\" UNION\n",
        "        SELECT 1, \"Python programming\", 6, \"F\" UNION\n",
        "        SELECT 2, \"Data Structures\", 7, \"C\" UNION\n",
        "        SELECT 3, \"Database Systems\", 8, \"A\" UNION\n",
        "        SELECT 4, \"Quantum Mechanics\", 9, \"A\" UNION\n",
        "        SELECT 2, \"Data Structures\", 10, \"F\";\n",
        "\n",
        "1. COUNT the number of unique courses.\n",
        "2. JOIN the tables students and courses and COUNT the number of students with the major Computer Science taking the course Python programming.\n",
        "3. JOIN the tables students and courses and select the students who have grades higher than \"C\", only show their name, major, gpa, course_name and grade.\n",
        "\n",
        "\n",
        "## Q3 Aggregate functions, numerical logic and grouping\n",
        "\n",
        "1. Find the average gpa of all students.\n",
        "2. SELECT the student with the maximum gpa, display only their student_id, major and gpa\n",
        "3. SELECT the student with the minimum gpa, display only their student_id, major and gpa\n",
        "4. SELECT the students with a gpa greater than 3.6 in the majors of \"Physics\" and \"Engineering\", display only their student_id, major and gpa\n",
        "5. Group the students by their major and retrieve the average grade of each major.\n",
        "6. SELECT the top 2 students with the highest GPA in each major and order the results by major in ascending order, then by GPA in descending order"
      ]
    },
    {
      "cell_type": "markdown",
      "id": "3ab84519",
      "metadata": {
        "id": "3ab84519"
      },
      "source": [
        "# Your solution"
      ]
    },
    {
      "cell_type": "code",
      "execution_count": 1,
      "id": "c7cff114",
      "metadata": {
        "id": "c7cff114"
      },
      "outputs": [],
      "source": [
        "#Importing the pre-requisite libraries\n",
        "import sqlite3\n",
        "#Creating a database for the assignment\n",
        "con = sqlite3.connect(\"Assignment3.db\")"
      ]
    },
    {
      "cell_type": "code",
      "source": [
        "#Creating a cursor to execute SQL Statements\n",
        "cur = con.cursor()"
      ],
      "metadata": {
        "id": "awAQLawfIjzr"
      },
      "id": "awAQLawfIjzr",
      "execution_count": 2,
      "outputs": []
    },
    {
      "cell_type": "code",
      "source": [
        "command = '''CREATE TABLE students AS\n",
        "    SELECT 1 AS student_id, \"John\" AS name, \"Computer Science\" AS major, 3.5 AS gpa, \"01-01-2022\" AS enrollment_date UNION\n",
        "    SELECT 2, \"Jane\", \"Physics\", 3.8, \"01-02-2022\" UNION\n",
        "    SELECT 3, \"Bob\", \"Engineering\", 3.0, \"01-03-2022\" UNION\n",
        "    SELECT 4, \"Samantha\", \"Physics\", 3.9, \"01-04-2022\" UNION\n",
        "    SELECT 5, \"James\", \"Engineering\", 3.7, \"01-05-2022\" UNION\n",
        "    SELECT 6, \"Emily\", \"Computer Science\", 3.6, \"01-06-2022\" UNION\n",
        "    SELECT 7, \"Michael\", \"Computer Science\", 3.2, \"01-07-2022\" UNION\n",
        "    SELECT 8, \"Jessica\", \"Engineering\", 3.8, \"01-08-2022\" UNION\n",
        "    SELECT 9, \"Jacob\", \"Physics\", 3.4, \"01-09-2022\" UNION\n",
        "    SELECT 10, \"Ashley\", \"Physics\", 3.9, \"01-10-2022\";\n",
        "    '''\n",
        "cur.execute(command)"
      ],
      "metadata": {
        "colab": {
          "base_uri": "https://localhost:8080/"
        },
        "id": "bE8hRsqNLBVi",
        "outputId": "770b0cd1-7e48-47a4-df3b-40cc55b4e88f"
      },
      "id": "bE8hRsqNLBVi",
      "execution_count": 3,
      "outputs": [
        {
          "output_type": "execute_result",
          "data": {
            "text/plain": [
              "<sqlite3.Cursor at 0x7f1952343a40>"
            ]
          },
          "metadata": {},
          "execution_count": 3
        }
      ]
    },
    {
      "cell_type": "code",
      "source": [
        "#q1 = cur.execute(\"SELECT * FROM students\")"
      ],
      "metadata": {
        "id": "595GN_obLN3t"
      },
      "id": "595GN_obLN3t",
      "execution_count": 4,
      "outputs": []
    },
    {
      "cell_type": "markdown",
      "source": [
        "Q1.1"
      ],
      "metadata": {
        "id": "0vnSn1miN-S0"
      },
      "id": "0vnSn1miN-S0"
    },
    {
      "cell_type": "code",
      "source": [
        "for row in cur.execute(\"SELECT * FROM students\"):\n",
        "  print(row)"
      ],
      "metadata": {
        "colab": {
          "base_uri": "https://localhost:8080/"
        },
        "id": "eLFJmj-ZMczJ",
        "outputId": "c618e6f0-0422-4c25-e14d-03252154d969"
      },
      "id": "eLFJmj-ZMczJ",
      "execution_count": 5,
      "outputs": [
        {
          "output_type": "stream",
          "name": "stdout",
          "text": [
            "(1, 'John', 'Computer Science', 3.5, '01-01-2022')\n",
            "(2, 'Jane', 'Physics', 3.8, '01-02-2022')\n",
            "(3, 'Bob', 'Engineering', 3.0, '01-03-2022')\n",
            "(4, 'Samantha', 'Physics', 3.9, '01-04-2022')\n",
            "(5, 'James', 'Engineering', 3.7, '01-05-2022')\n",
            "(6, 'Emily', 'Computer Science', 3.6, '01-06-2022')\n",
            "(7, 'Michael', 'Computer Science', 3.2, '01-07-2022')\n",
            "(8, 'Jessica', 'Engineering', 3.8, '01-08-2022')\n",
            "(9, 'Jacob', 'Physics', 3.4, '01-09-2022')\n",
            "(10, 'Ashley', 'Physics', 3.9, '01-10-2022')\n"
          ]
        }
      ]
    },
    {
      "cell_type": "markdown",
      "source": [
        "Q 1.2"
      ],
      "metadata": {
        "id": "vBwa8QmbOASu"
      },
      "id": "vBwa8QmbOASu"
    },
    {
      "cell_type": "code",
      "source": [
        "for row in cur.execute(\"SELECT * FROM students WHERE major='Computer Science'\"):\n",
        "  print(row)"
      ],
      "metadata": {
        "colab": {
          "base_uri": "https://localhost:8080/"
        },
        "id": "j1b73Fr3OBKc",
        "outputId": "b41dc4a9-ccfc-4cd3-9a70-ff89ceae7335"
      },
      "id": "j1b73Fr3OBKc",
      "execution_count": 6,
      "outputs": [
        {
          "output_type": "stream",
          "name": "stdout",
          "text": [
            "(1, 'John', 'Computer Science', 3.5, '01-01-2022')\n",
            "(6, 'Emily', 'Computer Science', 3.6, '01-06-2022')\n",
            "(7, 'Michael', 'Computer Science', 3.2, '01-07-2022')\n"
          ]
        }
      ]
    },
    {
      "cell_type": "markdown",
      "source": [
        "Q1.3"
      ],
      "metadata": {
        "id": "mxOIjcoDPfnm"
      },
      "id": "mxOIjcoDPfnm"
    },
    {
      "cell_type": "code",
      "source": [
        "for row in cur.execute(\"SELECT DISTINCT major FROM students ORDER BY major DESC\"):\n",
        "  print(row)"
      ],
      "metadata": {
        "colab": {
          "base_uri": "https://localhost:8080/"
        },
        "id": "8cbtzyrfPZIw",
        "outputId": "d98de4e3-5b64-446b-cb0e-32db76b5e7bd"
      },
      "id": "8cbtzyrfPZIw",
      "execution_count": 7,
      "outputs": [
        {
          "output_type": "stream",
          "name": "stdout",
          "text": [
            "('Physics',)\n",
            "('Engineering',)\n",
            "('Computer Science',)\n"
          ]
        }
      ]
    },
    {
      "cell_type": "markdown",
      "source": [
        "Q1.4"
      ],
      "metadata": {
        "id": "sxcahuWASOeg"
      },
      "id": "sxcahuWASOeg"
    },
    {
      "cell_type": "code",
      "source": [
        "for row in cur.execute(\"SELECT * FROM students WHERE name LIKE '%e%' ORDER BY gpa ASC\"):\n",
        "  print(row)"
      ],
      "metadata": {
        "colab": {
          "base_uri": "https://localhost:8080/"
        },
        "id": "Xl5qfHisQN6w",
        "outputId": "c9d8aaff-eaf7-4e3c-b69d-d06dabd71352"
      },
      "id": "Xl5qfHisQN6w",
      "execution_count": 8,
      "outputs": [
        {
          "output_type": "stream",
          "name": "stdout",
          "text": [
            "(7, 'Michael', 'Computer Science', 3.2, '01-07-2022')\n",
            "(6, 'Emily', 'Computer Science', 3.6, '01-06-2022')\n",
            "(5, 'James', 'Engineering', 3.7, '01-05-2022')\n",
            "(2, 'Jane', 'Physics', 3.8, '01-02-2022')\n",
            "(8, 'Jessica', 'Engineering', 3.8, '01-08-2022')\n",
            "(10, 'Ashley', 'Physics', 3.9, '01-10-2022')\n"
          ]
        }
      ]
    },
    {
      "cell_type": "markdown",
      "source": [
        "Q2"
      ],
      "metadata": {
        "id": "JsEUnhTIS1f3"
      },
      "id": "JsEUnhTIS1f3"
    },
    {
      "cell_type": "code",
      "source": [
        "command = '''CREATE TABLE courses AS\n",
        " SELECT 1 AS course_id, \"Python programming\" AS course_name, 1 AS student_id, \"A\" AS grade UNION\n",
        " SELECT 2, \"Data Structures\", 2, \"B\" UNION\n",
        " SELECT 3, \"Database Systems\", 3, \"B\" UNION\n",
        " SELECT 1, \"Python programming\", 4, \"A\" UNION\n",
        " SELECT 4, \"Quantum Mechanics\", 5, \"C\" UNION\n",
        " SELECT 1, \"Python programming\", 6, \"F\" UNION\n",
        " SELECT 2, \"Data Structures\", 7, \"C\" UNION\n",
        " SELECT 3, \"Database Systems\", 8, \"A\" UNION\n",
        " SELECT 4, \"Quantum Mechanics\", 9, \"A\" UNION\n",
        " SELECT 2, \"Data Structures\", 10, \"F\";\n",
        " '''\n",
        "\n",
        "cur.execute(command)"
      ],
      "metadata": {
        "colab": {
          "base_uri": "https://localhost:8080/"
        },
        "id": "FeY-WWgGSVU-",
        "outputId": "26846cd3-c3b7-480b-b040-a186226b4e21"
      },
      "id": "FeY-WWgGSVU-",
      "execution_count": 9,
      "outputs": [
        {
          "output_type": "execute_result",
          "data": {
            "text/plain": [
              "<sqlite3.Cursor at 0x7f1952343a40>"
            ]
          },
          "metadata": {},
          "execution_count": 9
        }
      ]
    },
    {
      "cell_type": "code",
      "source": [
        "for row in cur.execute(\"SELECT * FROM courses\"):\n",
        "  print(row)"
      ],
      "metadata": {
        "colab": {
          "base_uri": "https://localhost:8080/"
        },
        "id": "t7fAvPicUl29",
        "outputId": "e0a644f6-7abd-4935-efb7-9ea7050bc170"
      },
      "id": "t7fAvPicUl29",
      "execution_count": 10,
      "outputs": [
        {
          "output_type": "stream",
          "name": "stdout",
          "text": [
            "(1, 'Python programming', 1, 'A')\n",
            "(1, 'Python programming', 4, 'A')\n",
            "(1, 'Python programming', 6, 'F')\n",
            "(2, 'Data Structures', 2, 'B')\n",
            "(2, 'Data Structures', 7, 'C')\n",
            "(2, 'Data Structures', 10, 'F')\n",
            "(3, 'Database Systems', 3, 'B')\n",
            "(3, 'Database Systems', 8, 'A')\n",
            "(4, 'Quantum Mechanics', 5, 'C')\n",
            "(4, 'Quantum Mechanics', 9, 'A')\n"
          ]
        }
      ]
    },
    {
      "cell_type": "markdown",
      "source": [
        "Q2.1"
      ],
      "metadata": {
        "id": "hdKjQCe7S5oL"
      },
      "id": "hdKjQCe7S5oL"
    },
    {
      "cell_type": "code",
      "source": [
        "for row in cur.execute(\"SELECT COUNT(DISTINCT course_name) FROM courses\"):\n",
        "  print(row)"
      ],
      "metadata": {
        "colab": {
          "base_uri": "https://localhost:8080/"
        },
        "id": "2UHmkmElS7Gr",
        "outputId": "ceca61ca-fa11-4874-d4ce-1d04a950d3b2"
      },
      "id": "2UHmkmElS7Gr",
      "execution_count": 11,
      "outputs": [
        {
          "output_type": "stream",
          "name": "stdout",
          "text": [
            "(4,)\n"
          ]
        }
      ]
    },
    {
      "cell_type": "markdown",
      "source": [
        "Q2.2"
      ],
      "metadata": {
        "id": "LeSSXy8VYMYn"
      },
      "id": "LeSSXy8VYMYn"
    },
    {
      "cell_type": "code",
      "source": [
        "for row in cur.execute(\"SELECT COUNT(*) FROM students LEFT JOIN courses ON students.student_id = courses.student_id WHERE students.major = 'Computer Science' AND courses.course_name = 'Python programming'\"):\n",
        "  print(row)"
      ],
      "metadata": {
        "colab": {
          "base_uri": "https://localhost:8080/"
        },
        "id": "oKKpBEXqTfF_",
        "outputId": "f9f56a86-16c9-455e-c3a4-9d3601ec42be"
      },
      "id": "oKKpBEXqTfF_",
      "execution_count": 12,
      "outputs": [
        {
          "output_type": "stream",
          "name": "stdout",
          "text": [
            "(2,)\n"
          ]
        }
      ]
    },
    {
      "cell_type": "markdown",
      "source": [
        "Q2.3"
      ],
      "metadata": {
        "id": "YEKh42akcHOv"
      },
      "id": "YEKh42akcHOv"
    },
    {
      "cell_type": "code",
      "source": [
        "for row in cur.execute(\"SELECT students.name, students.major, students.gpa, courses.course_name, courses.grade FROM students LEFT JOIN courses ON students.student_id = courses.student_id WHERE courses.grade < 'C'\"):\n",
        "  print(row)"
      ],
      "metadata": {
        "colab": {
          "base_uri": "https://localhost:8080/"
        },
        "id": "VPZOZIBwcIIF",
        "outputId": "bea8661d-f48d-4583-ced0-bbec631df598"
      },
      "id": "VPZOZIBwcIIF",
      "execution_count": 13,
      "outputs": [
        {
          "output_type": "stream",
          "name": "stdout",
          "text": [
            "('John', 'Computer Science', 3.5, 'Python programming', 'A')\n",
            "('Samantha', 'Physics', 3.9, 'Python programming', 'A')\n",
            "('Jane', 'Physics', 3.8, 'Data Structures', 'B')\n",
            "('Bob', 'Engineering', 3.0, 'Database Systems', 'B')\n",
            "('Jessica', 'Engineering', 3.8, 'Database Systems', 'A')\n",
            "('Jacob', 'Physics', 3.4, 'Quantum Mechanics', 'A')\n"
          ]
        }
      ]
    },
    {
      "cell_type": "markdown",
      "source": [
        "Q3"
      ],
      "metadata": {
        "id": "WRU9Ku-Qe4rL"
      },
      "id": "WRU9Ku-Qe4rL"
    },
    {
      "cell_type": "markdown",
      "source": [
        "Q3.1"
      ],
      "metadata": {
        "id": "YPJ5pik8e7w1"
      },
      "id": "YPJ5pik8e7w1"
    },
    {
      "cell_type": "code",
      "source": [
        "for row in cur.execute(\"SELECT AVG(gpa) FROM students\"):\n",
        "  print(row)"
      ],
      "metadata": {
        "colab": {
          "base_uri": "https://localhost:8080/"
        },
        "id": "RsCfMWCde8tN",
        "outputId": "25b365d9-bb05-4f36-e2c7-e23f5573ace0"
      },
      "id": "RsCfMWCde8tN",
      "execution_count": 14,
      "outputs": [
        {
          "output_type": "stream",
          "name": "stdout",
          "text": [
            "(3.5800000000000005,)\n"
          ]
        }
      ]
    },
    {
      "cell_type": "markdown",
      "source": [
        "Q3.2"
      ],
      "metadata": {
        "id": "OyoHWREWf9Oa"
      },
      "id": "OyoHWREWf9Oa"
    },
    {
      "cell_type": "code",
      "source": [
        "for row in cur.execute(\"SELECT student_id, major, gpa FROM students WHERE gpa = (SELECT MAX(gpa) FROM students)\"):\n",
        "  print(row)"
      ],
      "metadata": {
        "colab": {
          "base_uri": "https://localhost:8080/"
        },
        "id": "C2kTSr5Xf7zJ",
        "outputId": "28b017ad-496a-4a42-9d0e-9291cd738438"
      },
      "id": "C2kTSr5Xf7zJ",
      "execution_count": 15,
      "outputs": [
        {
          "output_type": "stream",
          "name": "stdout",
          "text": [
            "(4, 'Physics', 3.9)\n",
            "(10, 'Physics', 3.9)\n"
          ]
        }
      ]
    },
    {
      "cell_type": "markdown",
      "source": [
        "Q3.3"
      ],
      "metadata": {
        "id": "x8Eqip1YgGQL"
      },
      "id": "x8Eqip1YgGQL"
    },
    {
      "cell_type": "code",
      "source": [
        "for row in cur.execute(\"SELECT student_id, major, gpa FROM students WHERE gpa = (SELECT MIN(gpa) FROM students)\"):\n",
        "  print(row)"
      ],
      "metadata": {
        "colab": {
          "base_uri": "https://localhost:8080/"
        },
        "id": "ZI7a6uxMgE5-",
        "outputId": "3086655d-d42c-49fe-b614-9ad4c1d49aa0"
      },
      "id": "ZI7a6uxMgE5-",
      "execution_count": 16,
      "outputs": [
        {
          "output_type": "stream",
          "name": "stdout",
          "text": [
            "(3, 'Engineering', 3.0)\n"
          ]
        }
      ]
    },
    {
      "cell_type": "markdown",
      "source": [
        "Q3.4"
      ],
      "metadata": {
        "id": "84MnB7Lxgvcu"
      },
      "id": "84MnB7Lxgvcu"
    },
    {
      "cell_type": "code",
      "source": [
        "for row in cur.execute(\"SELECT student_id, major, gpa FROM students WHERE (major = 'Physics' OR major = 'Engineering') AND gpa > 3.6\"):\n",
        "  print(row)"
      ],
      "metadata": {
        "colab": {
          "base_uri": "https://localhost:8080/"
        },
        "id": "y5-2abpsgsb-",
        "outputId": "27cd2cd6-6464-441c-908c-a5aeb11b8332"
      },
      "id": "y5-2abpsgsb-",
      "execution_count": 17,
      "outputs": [
        {
          "output_type": "stream",
          "name": "stdout",
          "text": [
            "(2, 'Physics', 3.8)\n",
            "(4, 'Physics', 3.9)\n",
            "(5, 'Engineering', 3.7)\n",
            "(8, 'Engineering', 3.8)\n",
            "(10, 'Physics', 3.9)\n"
          ]
        }
      ]
    },
    {
      "cell_type": "markdown",
      "source": [
        "Q3.5"
      ],
      "metadata": {
        "id": "xbubyeyWg4IS"
      },
      "id": "xbubyeyWg4IS"
    },
    {
      "cell_type": "code",
      "source": [
        "for row in cur.execute(\"SELECT major, AVG(gpa) as average_of_gpa FROM students GROUP BY major\"):\n",
        "  print(row)"
      ],
      "metadata": {
        "colab": {
          "base_uri": "https://localhost:8080/"
        },
        "id": "YVkEBKjng3Kv",
        "outputId": "c8289d5e-0df2-434f-c76e-98ff8e7b83c3"
      },
      "id": "YVkEBKjng3Kv",
      "execution_count": 18,
      "outputs": [
        {
          "output_type": "stream",
          "name": "stdout",
          "text": [
            "('Computer Science', 3.4333333333333336)\n",
            "('Engineering', 3.5)\n",
            "('Physics', 3.75)\n"
          ]
        }
      ]
    },
    {
      "cell_type": "markdown",
      "source": [
        "Q3.6"
      ],
      "metadata": {
        "id": "_oVMgEVQhB11"
      },
      "id": "_oVMgEVQhB11"
    },
    {
      "cell_type": "code",
      "source": [
        "for row in cur.execute(\"SELECT major, student_id, gpa FROM (SELECT major, student_id, gpa, ROW_NUMBER() OVER (PARTITION BY major ORDER BY gpa DESC) AS rank_students FROM students) WHERE rank_students <= 2 ORDER BY major, gpa DESC\"):\n",
        "  print(row)"
      ],
      "metadata": {
        "colab": {
          "base_uri": "https://localhost:8080/"
        },
        "id": "nZ35qyGmhD6D",
        "outputId": "0389af4a-e898-4c0d-a0fa-68507520a1a6"
      },
      "id": "nZ35qyGmhD6D",
      "execution_count": 19,
      "outputs": [
        {
          "output_type": "stream",
          "name": "stdout",
          "text": [
            "('Computer Science', 6, 3.6)\n",
            "('Computer Science', 1, 3.5)\n",
            "('Engineering', 8, 3.8)\n",
            "('Engineering', 5, 3.7)\n",
            "('Physics', 4, 3.9)\n",
            "('Physics', 10, 3.9)\n"
          ]
        }
      ]
    }
  ],
  "metadata": {
    "kernelspec": {
      "display_name": "Python 3 (ipykernel)",
      "language": "python",
      "name": "python3"
    },
    "language_info": {
      "codemirror_mode": {
        "name": "ipython",
        "version": 3
      },
      "file_extension": ".py",
      "mimetype": "text/x-python",
      "name": "python",
      "nbconvert_exporter": "python",
      "pygments_lexer": "ipython3",
      "version": "3.9.15"
    },
    "colab": {
      "provenance": []
    }
  },
  "nbformat": 4,
  "nbformat_minor": 5
}